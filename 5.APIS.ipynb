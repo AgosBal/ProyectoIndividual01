{
 "cells": [
  {
   "attachments": {},
   "cell_type": "markdown",
   "metadata": {},
   "source": [
    "DESARROLLO API\n",
    "\n",
    "El objetivo es disponibilizar los datos de la empresa usando el framework FastAPI. Las consultas son las siguientes: 6 funciones para los endpoints que se consumirán en la API\n",
    "\n",
    "def cantidad_filmaciones_mes( Mes ): Se ingresa un mes en idioma Español. Debe devolver la cantidad de películas que fueron estrenadas en el mes consultado en la totalidad del dataset.\n",
    "                    Ejemplo de retorno: X cantidad de películas fueron estrenadas en el mes de X\n",
    "\n",
    "def cantidad_filmaciones_dia( Dia ): Se ingresa un día en idioma Español. Debe devolver la cantidad de películas que fueron estrenadas en día consultado en la totalidad del dataset.\n",
    "                    Ejemplo de retorno: X cantidad de películas fueron estrenadas en los días X\n",
    "\n",
    "def score_titulo( titulo_de_la_filmación ): Se ingresa el título de una filmación esperando como respuesta el título, el año de estreno y el score.\n",
    "                    Ejemplo de retorno: La película X fue estrenada en el año X con un score/popularidad de X\n",
    "\n",
    "def votos_titulo( titulo_de_la_filmación ): Se ingresa el título de una filmación esperando como respuesta el título, la cantidad de votos y el valor promedio de las votaciones. La misma variable deberá de contar con al menos 2000 valoraciones, caso contrario, debemos contar con un mensaje avisando que no cumple esta condición y que por ende, no se devuelve ningun valor.\n",
    "                    Ejemplo de retorno: La película X fue estrenada en el año X. La misma cuenta con un total de X valoraciones, con un promedio de X\n",
    "\n",
    "def get_actor( nombre_actor ): Se ingresa el nombre de un actor que se encuentre dentro de un dataset debiendo devolver el éxito del mismo medido a través del retorno. Además, la cantidad de películas que en las que ha participado y el promedio de retorno. La definición no deberá considerar directores.\n",
    "                    Ejemplo de retorno: El actor X ha participado de X cantidad de filmaciones, el mismo ha conseguido un retorno de X con un promedio de X por filmación\n",
    "\n",
    "def get_director( nombre_director ): Se ingresa el nombre de un director que se encuentre dentro de un dataset debiendo devolver el éxito del mismo medido a través del retorno. Además, deberá devolver el nombre de cada película con la fecha de lanzamiento, retorno individual, costo y ganancia de la misma.\n"
   ]
  },
  {
   "cell_type": "code",
   "execution_count": 1,
   "metadata": {},
   "outputs": [],
   "source": [
    "import pandas as pd\n",
    "import numpy as np\n",
    "from sklearn.metrics.pairwise import cosine_similarity\n",
    "from sklearn.utils.extmath import randomized_svd\n",
    "from sklearn.feature_extraction.text import TfidfVectorizer"
   ]
  },
  {
   "cell_type": "code",
   "execution_count": 2,
   "metadata": {},
   "outputs": [],
   "source": [
    "movies_completo = pd.read_csv('Movies_completo.csv')"
   ]
  },
  {
   "cell_type": "code",
   "execution_count": 3,
   "metadata": {},
   "outputs": [
    {
     "name": "stdout",
     "output_type": "stream",
     "text": [
      "object\n"
     ]
    }
   ],
   "source": [
    "tipo_dato = movies_completo['ReleaseDate'].dtypes\n",
    "print(tipo_dato)"
   ]
  },
  {
   "cell_type": "code",
   "execution_count": 4,
   "metadata": {},
   "outputs": [],
   "source": [
    "#Convierto la columna ReleaseDate en tipo de dato fecha y hora\n",
    "#Coerce es para errores que puedan ocurrir durante la conversión, los datos se establecen como NaT\n",
    "\n",
    "movies_completo['ReleaseDate'] = pd.to_datetime(movies_completo['ReleaseDate'], errors='coerce')"
   ]
  },
  {
   "cell_type": "code",
   "execution_count": 5,
   "metadata": {},
   "outputs": [],
   "source": [
    "movies_completo['ReleaseMonth'] = pd.to_datetime(movies_completo['ReleaseMonth'], errors='coerce')"
   ]
  },
  {
   "cell_type": "code",
   "execution_count": 6,
   "metadata": {},
   "outputs": [],
   "source": [
    "def cantidad_filmaciones_mes(mes: str):\n",
    "    data = movies_completo\n",
    "\n",
    "    meses = {\n",
    "        'enero': 1,\n",
    "        'febrero': 2,\n",
    "        'marzo': 3,\n",
    "        'abril': 4,\n",
    "        'mayo': 5,\n",
    "        'junio': 6,\n",
    "        'julio': 7,\n",
    "        'agosto': 8,\n",
    "        'septiembre': 9,\n",
    "        'octubre': 10,\n",
    "        'noviembre': 11,\n",
    "        'diciembre': 12\n",
    "    }\n",
    "\n",
    "    num_mes = meses.get(mes.lower())\n",
    "\n",
    "    if num_mes is None:\n",
    "        raise ValueError('Dato mes inexistente')\n",
    "\n",
    "    # Convertir la columna 'ReleaseDate' a tipo datetime\n",
    "    data['ReleaseMonth'] = pd.to_datetime(data['ReleaseMonth'], errors='coerce')\n",
    "\n",
    "    filmaciones_mes = data[data['ReleaseMonth'].dt.month == num_mes]\n",
    "\n",
    "    cantidad_filmaciones = len(filmaciones_mes)\n",
    "\n",
    "    return f\"Se estrenaron {cantidad_filmaciones} filmaciones el mes {mes.capitalize()}.\""
   ]
  },
  {
   "cell_type": "code",
   "execution_count": 7,
   "metadata": {},
   "outputs": [
    {
     "data": {
      "text/plain": [
       "'Se estrenaron 45376 filmaciones el mes Enero.'"
      ]
     },
     "execution_count": 7,
     "metadata": {},
     "output_type": "execute_result"
    }
   ],
   "source": [
    "#Pruebo la función \n",
    "\n",
    "cantidad_filmaciones_mes('enero')"
   ]
  },
  {
   "cell_type": "code",
   "execution_count": 8,
   "metadata": {},
   "outputs": [],
   "source": [
    "def cantidad_filmaciones_dia(Dia):\n",
    "    data = movies_completo\n",
    "    #Establezco un diccionario con los nombres de los días en español\n",
    "    dias = {\n",
    "        'lunes': 0,\n",
    "        'martes': 1,\n",
    "        'miercoles': 2,\n",
    "        'jueves': 3,\n",
    "        'viernes': 4,\n",
    "        'sabado': 5,\n",
    "        'domingo': 6\n",
    "    }\n",
    "\n",
    "    num_dia = dias.get(Dia.lower()) #Obtengo el número de día y busca el mismo en el diccionario de arriba\n",
    "\n",
    "    if num_dia is None:\n",
    "        raise ValueError('Dato día inexistente')\n",
    "\n",
    "    filmaciones_dia = data[data['ReleaseDate'].dt.weekday == num_dia]   #Filtro las filmaciones por día de la semana\n",
    "\n",
    "    cantidad_filmaciones = len(filmaciones_dia) #Calculo la cantidad de filmaciones en el día\n",
    "\n",
    "    return f\"Se estrenaron {cantidad_filmaciones} filmaciones los días {Dia.capitalize()}.\" #Devuelvo el día con la primer letra en mayúscula\n"
   ]
  },
  {
   "cell_type": "code",
   "execution_count": 9,
   "metadata": {},
   "outputs": [
    {
     "data": {
      "text/plain": [
       "'Se estrenaron 3503 filmaciones los días Lunes.'"
      ]
     },
     "execution_count": 9,
     "metadata": {},
     "output_type": "execute_result"
    }
   ],
   "source": [
    "#Pruebo la función\n",
    "\n",
    "cantidad_filmaciones_dia ('lunes')"
   ]
  },
  {
   "cell_type": "code",
   "execution_count": 10,
   "metadata": {},
   "outputs": [],
   "source": [
    "def score_titulo(titulo_de_la_filmación):\n",
    "    data = movies_completo #creo la variable data que contiene el dataframe movies_completo\n",
    "\n",
    "    titulo = titulo_de_la_filmación.title()  #Capitalizo la primera letra de cada palabra en el título proporcionado y lo asigno a la variable título\n",
    "    match = data[data['Title'] == titulo]    #Recorro data para encontrar dónde en la columna 'title' esté exactamente el valor de título. \n",
    "\n",
    "    #Si match no está vacía, obtengo los valores del título, año de lanzamiento y puntuación de popularidad. Y asigno cada resultado a una variable para llamarlas en el return\n",
    "    if not match.empty:\n",
    "        titulo1 = match['Title'].values[0]\n",
    "        anio = match['ReleaseYear'].values[0]\n",
    "        score_popularity = match['Popularity'].values[0]\n",
    "\n",
    "        score_popularity = round(score_popularity, 2) #Redondeo la popularidad a dos decimales. \n",
    "            \n",
    "        return f\"La película {titulo1} fue estrenada en el año {anio} con un score/popularidad de {score_popularity}.\"\n",
    "\n",
    "    #Si no hay match\n",
    "    return \"No se encontró la película especificada.\""
   ]
  },
  {
   "cell_type": "code",
   "execution_count": 11,
   "metadata": {},
   "outputs": [
    {
     "data": {
      "text/plain": [
       "'La película A Brief Vacation fue estrenada en el año 1973.0 con un score/popularidad de 0.42.'"
      ]
     },
     "execution_count": 11,
     "metadata": {},
     "output_type": "execute_result"
    }
   ],
   "source": [
    "#Pruebo la función\n",
    "\n",
    "score_titulo('A Brief Vacation')"
   ]
  },
  {
   "cell_type": "code",
   "execution_count": 12,
   "metadata": {},
   "outputs": [],
   "source": [
    "def votos_titulo(titulo_de_la_filmación):\n",
    "    data = movies_completo  #Inicio la variable data a partir del data frame \n",
    "    data['Title'] = data['Title'].str.title() # Realizo el cambio de todos los valores de la columna title a mayuscula inicial\n",
    "    titulo = titulo_de_la_filmación.title() #Lo mismo con título\n",
    "\n",
    "    if (data['Title'] == titulo).any(): #Verifico si el título coincide con algún título de la columna 'Title' del dataframe\n",
    "        peliculas = data[data['Title'] == titulo] #Obtengo todas las películas que coinciden con el título\n",
    "        primera_pelicula = peliculas.iloc[0] #Tomo sólo la primera\n",
    "\n",
    "        qvotos = primera_pelicula['VoteCount']\n",
    "        \n",
    "        if qvotos < 2000:\n",
    "            return \"La película no cuenta con al menos 2000 valoraciones.\"\n",
    "        \n",
    "        else:\n",
    "            anio = primera_pelicula['ReleaseYear'] #Almaceno el año de lanzamiento \n",
    "            #qvotos = data[data['Title'] == titulo]['VoteCount'].item() #Lo mismo con la cantidad de votos\n",
    "            promedio = primera_pelicula['VoteAverage'] #Repito con el promedio de votos\n",
    "\n",
    "        return f\"La película {titulo} fue estrenada en el año {anio}. La misma cuenta con un total de {qvotos} valoraciones, con un promedio de {promedio}.\"\n",
    "    \n",
    "    else:\n",
    "        return \"La película no se encontró.\""
   ]
  },
  {
   "cell_type": "code",
   "execution_count": 13,
   "metadata": {},
   "outputs": [
    {
     "data": {
      "text/plain": [
       "'La película Batman fue estrenada en el año 1989.0. La misma cuenta con un total de 2145.0 valoraciones, con un promedio de 7.0.'"
      ]
     },
     "execution_count": 13,
     "metadata": {},
     "output_type": "execute_result"
    }
   ],
   "source": [
    "#Pruebo la función\n",
    "\n",
    "votos_titulo('Batman')"
   ]
  },
  {
   "cell_type": "code",
   "execution_count": 14,
   "metadata": {},
   "outputs": [],
   "source": [
    "def get_actor(nombre_actor):\n",
    "    actor = movies_completo[movies_completo['ActorName'].apply(lambda x: isinstance(x, str) and nombre_actor in x)] #creo un DataFrame 'actor' con todas las filas de movies_completo, la columna 'ActorName' contiene el nombre del actor especificado. Con apply en la columna 'ActorName', aplico lambda para verificar si x es una cadena y si nombre_actor se encuentra dentro de esa cadena\n",
    "    if len (actor) == 0:\n",
    "        print (\"Este integrante no se encuentra en la lista\")\n",
    "        return\n",
    "    \n",
    "    qpelis = len(actor)  #Longitud de la lista que se arma con lambda\n",
    "    retorno = actor['Return'].sum()\n",
    "    promretorno = retorno / qpelis\n",
    "    \n",
    "    return f\"El/La actor/actriz {nombre_actor} ha participado de {qpelis} filmaciones, ha conseguido un retorno de {retorno} con un promedio de {promretorno} por filmación\""
   ]
  },
  {
   "cell_type": "code",
   "execution_count": 15,
   "metadata": {},
   "outputs": [
    {
     "data": {
      "text/plain": [
       "'El/La actor/actriz Vanda Duarte ha participado de 3 filmaciones, ha conseguido un retorno de 8.377430547021945 con un promedio de 2.792476849007315 por filmación'"
      ]
     },
     "execution_count": 15,
     "metadata": {},
     "output_type": "execute_result"
    }
   ],
   "source": [
    "#Pruebo la función\n",
    "\n",
    "get_actor('Vanda Duarte')"
   ]
  },
  {
   "cell_type": "code",
   "execution_count": 20,
   "metadata": {},
   "outputs": [],
   "source": [
    "def get_director(director: str):\n",
    "    ''' Se ingresa el nombre de un director que se encuentre dentro de un dataset debiendo devolver el éxito del mismo medido a través del retorno. \n",
    "    Además, deberá devolver el nombre de cada película con la fecha de lanzamiento, retorno individual, costo y ganancia de la misma.'''\n",
    "    \n",
    "    #Creo la lista en la que se guardan los detalles de la película dirigida por el 'director'\n",
    "    pelis_director = []\n",
    "    for index, row in movies_completo.iterrows():\n",
    "        if director in row['Director']:\n",
    "            #Creo una cadena de texto que contiene los detalles de la película\n",
    "            pelicula = '- ' + row['Title'] + ':\\n'\n",
    "            #Si la fecha de lanzamiento no es nula se agrega una línea adicional a la cadena 'película'\n",
    "            if isinstance(row['ReleaseDate'], str) and pd.notnull(row['ReleaseDate']):\n",
    "                release_date = pd.to_datetime(row['ReleaseDate'])\n",
    "                pelicula += '  - Lanzamiento: ' + release_date.strftime('%Y-%m-%d') + '\\n'\n",
    "            pelicula += '  - Retorno: ' + \"{:.2f}\".format(row['Return']) + '\\n' + \\\n",
    "                        '  - Costo: ' + \"{:.2f}\".format(row['Budget']) + '\\n' + \\\n",
    "                        '  - Ganancia: ' + \"{:.2f}\".format(row['Revenue']) + '\\n'\n",
    "            pelis_director.append(pelicula.replace('\\n',''))\n",
    "    \n",
    "    if len(pelis_director) == 0:\n",
    "        return 'No se encontraron películas para el director especificado.'\n",
    "\n",
    "    exito = sum(row['Return'] for idx, row in movies_completo.iterrows() if director in row['Director'])\n",
    "    exito = round(exito, 2)\n",
    "\n",
    "    resultado = ['El director ' + director + ' tiene un éxito medido por retorno de ' + str(exito)]\n",
    "    resultado.extend(pelis_director)\n",
    "\n",
    "    return resultado"
   ]
  },
  {
   "cell_type": "code",
   "execution_count": 21,
   "metadata": {},
   "outputs": [
    {
     "name": "stdout",
     "output_type": "stream",
     "text": [
      "El director Quentin Tarantino tiene un éxito medido por retorno de 32.73\n",
      "- Pulp Fiction:  - Retorno: 26.74  - Costo: 8000000.00  - Ganancia: 213928762.00\n",
      "- Weekend At Bernie'S:  - Retorno: 4.65  - Costo: 6500000.00  - Ganancia: 30218387.00\n",
      "- Mr. Magoo:  - Retorno: 0.00  - Costo: 30000000.00  - Ganancia: 0.00\n",
      "- Runaway Jury:  - Retorno: 1.34  - Costo: 60000000.00  - Ganancia: 80154140.00\n",
      "- This So-Called Disaster: Sam Shepard Directs \"The Late Henry Moss\":  - Retorno: 0.00  - Costo: 0.00  - Ganancia: 0.00\n",
      "- The Moguls:  - Retorno: 0.00  - Costo: 0.00  - Ganancia: 0.00\n",
      "- Strike:  - Retorno: 0.00  - Costo: 0.00  - Ganancia: 0.00\n",
      "- Minecraft: The Story Of Mojang:  - Retorno: 0.00  - Costo: 0.00  - Ganancia: 0.00\n",
      "- The Wonders:  - Retorno: 0.00  - Costo: 0.00  - Ganancia: 0.00\n",
      "- Steal My Heart:  - Retorno: 0.00  - Costo: 0.00  - Ganancia: 0.00\n"
     ]
    }
   ],
   "source": [
    "resultado_director = get_director('Quentin Tarantino')\n",
    "for item in resultado_director:\n",
    "    print(item)"
   ]
  },
  {
   "cell_type": "code",
   "execution_count": 22,
   "metadata": {},
   "outputs": [],
   "source": [
    "def recomendacion(titulo):\n",
    "    data = movies_completo\n",
    "\n",
    "    titulo = titulo.title()  #Capitalizo la primera letra de cada palabra en el título proporcionado\n",
    "\n",
    "    #Obtengo las palabras clave del título para buscar películas similares\n",
    "    palabras_clave = set(titulo.split())\n",
    "\n",
    "    #Filtro las películas que contienen al menos una palabra clave en el título\n",
    "    peliculas_similares = data[data['Title'].apply(lambda x: any(word in x for word in palabras_clave))]\n",
    "\n",
    "    #Excluyo la película original del resultado\n",
    "    peliculas_similares = peliculas_similares[peliculas_similares['Title'] != titulo]\n",
    "\n",
    "    #Ordeno las películas por popularidad de mayor a menor\n",
    "    peliculas_similares = peliculas_similares.sort_values(by='Popularity', ascending=False)\n",
    "\n",
    "    #Selecciono las 5 primeras películas recomendadas\n",
    "    peliculas_recomendadas = peliculas_similares.head(5)\n",
    "\n",
    "    #Obtengo los títulos de las películas recomendadas\n",
    "    lista_recomendada = peliculas_recomendadas['Title'].tolist()\n",
    "\n",
    "    return {'Lista recomendada': lista_recomendada}\n"
   ]
  },
  {
   "cell_type": "code",
   "execution_count": 23,
   "metadata": {},
   "outputs": [
    {
     "data": {
      "text/plain": [
       "{'Lista recomendada': ['Beauty And The Beast',\n",
       "  'Guardians Of The Galaxy Vol. 2',\n",
       "  'The Hunger Games: Mockingjay - Part 1',\n",
       "  'War For The Planet Of The Apes',\n",
       "  'Pirates Of The Caribbean: Dead Men Tell No Tales']}"
      ]
     },
     "execution_count": 23,
     "metadata": {},
     "output_type": "execute_result"
    }
   ],
   "source": [
    "#Pruebo la función\n",
    "\n",
    "recomendacion('The Avengers')"
   ]
  }
 ],
 "metadata": {
  "kernelspec": {
   "display_name": "Python 3",
   "language": "python",
   "name": "python3"
  },
  "language_info": {
   "codemirror_mode": {
    "name": "ipython",
    "version": 3
   },
   "file_extension": ".py",
   "mimetype": "text/x-python",
   "name": "python",
   "nbconvert_exporter": "python",
   "pygments_lexer": "ipython3",
   "version": "3.10.9"
  },
  "orig_nbformat": 4
 },
 "nbformat": 4,
 "nbformat_minor": 2
}
