{
 "cells": [
  {
   "attachments": {},
   "cell_type": "markdown",
   "metadata": {},
   "source": [
    "EXTRACCIÓN, TRANSFORMACIÓN, CARGA DE DATOS (E.T.L)\n",
    "\n",
    "\n",
    "María Agostina Balverde Moll - DATA FT 11"
   ]
  },
  {
   "cell_type": "code",
   "execution_count": 1,
   "metadata": {},
   "outputs": [],
   "source": [
    "#Importo la librería pandas\n",
    "\n",
    "import pandas as pd"
   ]
  },
  {
   "cell_type": "code",
   "execution_count": 2,
   "metadata": {},
   "outputs": [
    {
     "name": "stderr",
     "output_type": "stream",
     "text": [
      "C:\\Users\\Usuario\\AppData\\Local\\Temp\\ipykernel_9932\\1899399592.py:1: DtypeWarning: Columns (5) have mixed types. Specify dtype option on import or set low_memory=False.\n",
      "  data_movies = pd.read_csv('datos_modificados.csv')\n"
     ]
    }
   ],
   "source": [
    "data_movies = pd.read_csv('datos_modificados.csv')\n",
    "data_credits = pd.read_csv('Datasets/credits.csv')"
   ]
  },
  {
   "cell_type": "code",
   "execution_count": 3,
   "metadata": {},
   "outputs": [
    {
     "name": "stdout",
     "output_type": "stream",
     "text": [
      "object\n"
     ]
    }
   ],
   "source": [
    "#Reviso el tipo de dato de la columna 'id' de ambos dataframe\n",
    "\n",
    "print(data_movies['id'].dtype)"
   ]
  },
  {
   "cell_type": "code",
   "execution_count": 4,
   "metadata": {},
   "outputs": [
    {
     "name": "stdout",
     "output_type": "stream",
     "text": [
      "int64\n"
     ]
    }
   ],
   "source": [
    "print(data_credits['Id'].dtype)"
   ]
  },
  {
   "cell_type": "code",
   "execution_count": 5,
   "metadata": {},
   "outputs": [
    {
     "name": "stdout",
     "output_type": "stream",
     "text": [
      "0      862\n",
      "1     8844\n",
      "2    15602\n",
      "Name: Id, dtype: int64\n"
     ]
    }
   ],
   "source": [
    "#Filtro la columa 'id' para buscar los valores que no son enteros\n",
    "\n",
    "noints = data_movies[~data_movies['id'].astype(str).str.isdigit()].reset_index(drop=True)\n",
    "\n",
    "columna_noints = data_credits.loc[noints.index, 'Id']\n",
    "\n",
    "print(columna_noints)"
   ]
  },
  {
   "cell_type": "code",
   "execution_count": 6,
   "metadata": {},
   "outputs": [
    {
     "name": "stdout",
     "output_type": "stream",
     "text": [
      "0           862\n",
      "1          8844\n",
      "2         15602\n",
      "3         31357\n",
      "4         11862\n",
      "          ...  \n",
      "45374     30840\n",
      "45375    111109\n",
      "45376     67758\n",
      "45377    227506\n",
      "45378    461257\n",
      "Name: id, Length: 45379, dtype: Int64\n"
     ]
    },
    {
     "name": "stderr",
     "output_type": "stream",
     "text": [
      "C:\\Users\\Usuario\\AppData\\Local\\Temp\\ipykernel_9932\\2830300610.py:7: FutureWarning: The pandas.np module is deprecated and will be removed from pandas in a future version. Import numpy directly instead.\n",
      "  data_movies.loc[noints.index, 'id'] = pd.np.nan\n"
     ]
    }
   ],
   "source": [
    "import pandas as pd\n",
    "\n",
    "# Filtrar donde la columna 'id' no es de tipo int\n",
    "noints = data_movies[~data_movies['id'].astype(str).str.isdigit()]\n",
    "\n",
    "# Convertir los datos de la columna 'id' que no son de tipo entero a NaN\n",
    "data_movies.loc[noints.index, 'id'] = pd.np.nan\n",
    "\n",
    "# Convertir la columna 'id' a tipo entero\n",
    "data_movies['id'] = data_movies['id'].astype(float).astype(pd.Int64Dtype())\n",
    "\n",
    "# Mostrar los datos convertidos a tipo entero\n",
    "print(data_movies['id'])"
   ]
  },
  {
   "cell_type": "code",
   "execution_count": 7,
   "metadata": {},
   "outputs": [],
   "source": [
    "data_merge = pd.merge (data_movies, data_credits, how = 'outer', left_index=True, right_index=True)"
   ]
  },
  {
   "cell_type": "code",
   "execution_count": 8,
   "metadata": {},
   "outputs": [
    {
     "data": {
      "text/html": [
       "<div>\n",
       "<style scoped>\n",
       "    .dataframe tbody tr th:only-of-type {\n",
       "        vertical-align: middle;\n",
       "    }\n",
       "\n",
       "    .dataframe tbody tr th {\n",
       "        vertical-align: top;\n",
       "    }\n",
       "\n",
       "    .dataframe thead th {\n",
       "        text-align: right;\n",
       "    }\n",
       "</style>\n",
       "<table border=\"1\" class=\"dataframe\">\n",
       "  <thead>\n",
       "    <tr style=\"text-align: right;\">\n",
       "      <th></th>\n",
       "      <th>budget</th>\n",
       "      <th>genres</th>\n",
       "      <th>id</th>\n",
       "      <th>original_language</th>\n",
       "      <th>overview</th>\n",
       "      <th>popularity</th>\n",
       "      <th>production_companies</th>\n",
       "      <th>production_countries</th>\n",
       "      <th>release_date</th>\n",
       "      <th>revenue</th>\n",
       "      <th>...</th>\n",
       "      <th>CollectionName</th>\n",
       "      <th>CollectionPosterPath</th>\n",
       "      <th>CollectionBackdropPath</th>\n",
       "      <th>release_year</th>\n",
       "      <th>return</th>\n",
       "      <th>release_month</th>\n",
       "      <th>Director</th>\n",
       "      <th>Id</th>\n",
       "      <th>Character</th>\n",
       "      <th>Name</th>\n",
       "    </tr>\n",
       "  </thead>\n",
       "  <tbody>\n",
       "  </tbody>\n",
       "</table>\n",
       "<p>0 rows × 28 columns</p>\n",
       "</div>"
      ],
      "text/plain": [
       "Empty DataFrame\n",
       "Columns: [budget, genres, id, original_language, overview, popularity, production_companies, production_countries, release_date, revenue, runtime, spoken_languages, status, tagline, title, vote_average, vote_count, CollectionId, CollectionName, CollectionPosterPath, CollectionBackdropPath, release_year, return, release_month, Director, Id, Character, Name]\n",
       "Index: []\n",
       "\n",
       "[0 rows x 28 columns]"
      ]
     },
     "execution_count": 8,
     "metadata": {},
     "output_type": "execute_result"
    }
   ],
   "source": [
    "data_merge.head(0)"
   ]
  },
  {
   "cell_type": "code",
   "execution_count": null,
   "metadata": {},
   "outputs": [],
   "source": [
    "#Elimino las columnas que no son necesarias a los fines de crear las funciones\n",
    "\n",
    "data_merge = data_merge.drop(['status', 'CollectionId','CollectionName','CollectionPosterPath','CollectionBackdropPath'], axis=1)"
   ]
  },
  {
   "cell_type": "code",
   "execution_count": 16,
   "metadata": {},
   "outputs": [],
   "source": [
    "#Elimino id que está repetida\n",
    "data_merge = data_merge.drop(['id'], axis=1)"
   ]
  },
  {
   "cell_type": "code",
   "execution_count": 18,
   "metadata": {},
   "outputs": [],
   "source": [
    "#Importo las librerias necesarias\n",
    "import numpy as np\n",
    "import matplotlib.pyplot as plt\n",
    "import seaborn as sns"
   ]
  },
  {
   "cell_type": "code",
   "execution_count": 19,
   "metadata": {},
   "outputs": [],
   "source": [
    "#Acomodo los nombres de las columnas\n",
    "\n",
    "data_merge = data_merge.rename(columns={'budget': 'Budget',\n",
    "                                        'genres':'Genres',\n",
    "                                        'original_language':'OriginalLanguage',\n",
    "                                        'overview':'Overview',\n",
    "                                        'popularity':'Popularity',\n",
    "                                        'production_companies':'ProductionCompanies',\n",
    "                                        'production_countries':'ProductionCountries',\n",
    "                                        'release_date':'ReleaseDate',\n",
    "                                        'revenue':'Revenue',\n",
    "                                        'runtime':'Runtime',\n",
    "                                        'spoken_languages':'SpokenLanguages',\n",
    "                                        'tagline':'Tagline',\n",
    "                                        'title':'Title',\n",
    "                                        'vote_average':'VoteAverage',\n",
    "                                        'vote_count':'VoteCount',\n",
    "                                        'release_year':'ReleaseYear',\n",
    "                                        'return':'Return',\n",
    "                                        'release_month':'ReleaseMonth',\n",
    "                                        'Character':'MovieCharacter',\n",
    "                                        'Name':'ActorName'})"
   ]
  },
  {
   "cell_type": "code",
   "execution_count": 21,
   "metadata": {},
   "outputs": [
    {
     "data": {
      "text/plain": [
       "(45476, 22)"
      ]
     },
     "execution_count": 21,
     "metadata": {},
     "output_type": "execute_result"
    }
   ],
   "source": [
    "data_merge.shape"
   ]
  },
  {
   "cell_type": "code",
   "execution_count": 22,
   "metadata": {},
   "outputs": [
    {
     "data": {
      "text/plain": [
       "Budget                 float64\n",
       "Genres                  object\n",
       "OriginalLanguage        object\n",
       "Overview                object\n",
       "Popularity              object\n",
       "ProductionCompanies     object\n",
       "ProductionCountries     object\n",
       "ReleaseDate             object\n",
       "Revenue                float64\n",
       "Runtime                float64\n",
       "SpokenLanguages         object\n",
       "Tagline                 object\n",
       "Title                   object\n",
       "VoteAverage            float64\n",
       "VoteCount              float64\n",
       "ReleaseYear            float64\n",
       "Return                 float64\n",
       "ReleaseMonth           float64\n",
       "Director                object\n",
       "Id                       int64\n",
       "MovieCharacter          object\n",
       "ActorName               object\n",
       "dtype: object"
      ]
     },
     "execution_count": 22,
     "metadata": {},
     "output_type": "execute_result"
    }
   ],
   "source": [
    "#Verifico los tipos de datos\n",
    "\n",
    "data_merge.dtypes"
   ]
  },
  {
   "cell_type": "code",
   "execution_count": 23,
   "metadata": {},
   "outputs": [],
   "source": [
    "#'Popularity' tiene formato de objeto. Lo paso a float\n",
    "\n",
    "#Identifico los valores no numéricos\n",
    "data_merge['Popularity'] = pd.to_numeric(data_merge['Popularity'], errors='coerce')\n",
    "\n",
    "#Convierto la columna a tipo float\n",
    "data_merge['Popularity'] = data_merge['Popularity'].astype(float)\n"
   ]
  },
  {
   "cell_type": "code",
   "execution_count": 24,
   "metadata": {},
   "outputs": [],
   "source": [
    "#Paso 'ReleaseDate' a datetime\n",
    "\n",
    "data_merge['ReleaseDate'] = pd.to_datetime(data_merge['ReleaseDate'], errors='coerce')\n",
    "\n",
    "#Extraigo sólo la fecha (sin la hora)\n",
    "data_merge['ReleaseDate'] = data_merge['ReleaseDate'].dt.date"
   ]
  },
  {
   "cell_type": "code",
   "execution_count": 25,
   "metadata": {},
   "outputs": [
    {
     "data": {
      "text/plain": [
       "Budget                 float64\n",
       "Genres                  object\n",
       "OriginalLanguage        object\n",
       "Overview                object\n",
       "Popularity             float64\n",
       "ProductionCompanies     object\n",
       "ProductionCountries     object\n",
       "ReleaseDate             object\n",
       "Revenue                float64\n",
       "Runtime                float64\n",
       "SpokenLanguages         object\n",
       "Tagline                 object\n",
       "Title                   object\n",
       "VoteAverage            float64\n",
       "VoteCount              float64\n",
       "ReleaseYear            float64\n",
       "Return                 float64\n",
       "ReleaseMonth           float64\n",
       "Director                object\n",
       "Id                       int64\n",
       "MovieCharacter          object\n",
       "ActorName               object\n",
       "dtype: object"
      ]
     },
     "execution_count": 25,
     "metadata": {},
     "output_type": "execute_result"
    }
   ],
   "source": [
    "#Verifico los tipos de datos\n",
    "\n",
    "data_merge.dtypes"
   ]
  },
  {
   "cell_type": "code",
   "execution_count": 26,
   "metadata": {},
   "outputs": [
    {
     "data": {
      "text/html": [
       "<div>\n",
       "<style scoped>\n",
       "    .dataframe tbody tr th:only-of-type {\n",
       "        vertical-align: middle;\n",
       "    }\n",
       "\n",
       "    .dataframe tbody tr th {\n",
       "        vertical-align: top;\n",
       "    }\n",
       "\n",
       "    .dataframe thead th {\n",
       "        text-align: right;\n",
       "    }\n",
       "</style>\n",
       "<table border=\"1\" class=\"dataframe\">\n",
       "  <thead>\n",
       "    <tr style=\"text-align: right;\">\n",
       "      <th></th>\n",
       "      <th>Budget</th>\n",
       "      <th>Genres</th>\n",
       "      <th>OriginalLanguage</th>\n",
       "      <th>Overview</th>\n",
       "      <th>Popularity</th>\n",
       "      <th>ProductionCompanies</th>\n",
       "      <th>ProductionCountries</th>\n",
       "      <th>ReleaseDate</th>\n",
       "      <th>Revenue</th>\n",
       "      <th>Runtime</th>\n",
       "      <th>...</th>\n",
       "      <th>Title</th>\n",
       "      <th>VoteAverage</th>\n",
       "      <th>VoteCount</th>\n",
       "      <th>ReleaseYear</th>\n",
       "      <th>Return</th>\n",
       "      <th>ReleaseMonth</th>\n",
       "      <th>Director</th>\n",
       "      <th>Id</th>\n",
       "      <th>MovieCharacter</th>\n",
       "      <th>ActorName</th>\n",
       "    </tr>\n",
       "  </thead>\n",
       "  <tbody>\n",
       "    <tr>\n",
       "      <th>0</th>\n",
       "      <td>30000000.0</td>\n",
       "      <td>Animation, Comedy, Family</td>\n",
       "      <td>en</td>\n",
       "      <td>Led by Woody, Andy's toys live happily in his ...</td>\n",
       "      <td>21.946943</td>\n",
       "      <td>Pixar Animation Studios</td>\n",
       "      <td>US</td>\n",
       "      <td>1995-10-30</td>\n",
       "      <td>373554033.0</td>\n",
       "      <td>81.0</td>\n",
       "      <td>...</td>\n",
       "      <td>Toy Story</td>\n",
       "      <td>7.7</td>\n",
       "      <td>5415.0</td>\n",
       "      <td>1995.0</td>\n",
       "      <td>12.451801</td>\n",
       "      <td>10.0</td>\n",
       "      <td>['John Lasseter']</td>\n",
       "      <td>862</td>\n",
       "      <td>Woody (voice), Buzz Lightyear (voice), Mr. Pot...</td>\n",
       "      <td>Tom Hanks, Tim Allen, Don Rickles, Jim Varney,...</td>\n",
       "    </tr>\n",
       "  </tbody>\n",
       "</table>\n",
       "<p>1 rows × 22 columns</p>\n",
       "</div>"
      ],
      "text/plain": [
       "       Budget                     Genres OriginalLanguage  \\\n",
       "0  30000000.0  Animation, Comedy, Family               en   \n",
       "\n",
       "                                            Overview  Popularity  \\\n",
       "0  Led by Woody, Andy's toys live happily in his ...   21.946943   \n",
       "\n",
       "       ProductionCompanies ProductionCountries ReleaseDate      Revenue  \\\n",
       "0  Pixar Animation Studios                  US  1995-10-30  373554033.0   \n",
       "\n",
       "   Runtime  ...      Title VoteAverage VoteCount  ReleaseYear     Return  \\\n",
       "0     81.0  ...  Toy Story         7.7    5415.0       1995.0  12.451801   \n",
       "\n",
       "   ReleaseMonth           Director   Id  \\\n",
       "0          10.0  ['John Lasseter']  862   \n",
       "\n",
       "                                      MovieCharacter  \\\n",
       "0  Woody (voice), Buzz Lightyear (voice), Mr. Pot...   \n",
       "\n",
       "                                           ActorName  \n",
       "0  Tom Hanks, Tim Allen, Don Rickles, Jim Varney,...  \n",
       "\n",
       "[1 rows x 22 columns]"
      ]
     },
     "execution_count": 26,
     "metadata": {},
     "output_type": "execute_result"
    }
   ],
   "source": [
    "data_merge.head(1)"
   ]
  },
  {
   "cell_type": "code",
   "execution_count": 27,
   "metadata": {},
   "outputs": [
    {
     "name": "stdout",
     "output_type": "stream",
     "text": [
      "Hay 0 valores duplicados\n"
     ]
    }
   ],
   "source": [
    "#Verifico si hay valores duplicados\n",
    "\n",
    "print(f\"Hay {data_merge.duplicated().sum()} valores duplicados\")"
   ]
  },
  {
   "cell_type": "code",
   "execution_count": 28,
   "metadata": {},
   "outputs": [],
   "source": [
    "#Elimino los valores duplicados\n",
    "\n",
    "data_merge.drop_duplicates(inplace=True)"
   ]
  },
  {
   "cell_type": "code",
   "execution_count": 29,
   "metadata": {},
   "outputs": [
    {
     "name": "stdout",
     "output_type": "stream",
     "text": [
      "Hay 0 valores duplicados\n"
     ]
    }
   ],
   "source": [
    "#Vuelvo a revisar si quedan valores duplicados\n",
    "\n",
    "print(f\"Hay {data_merge.duplicated().sum()} valores duplicados\")"
   ]
  },
  {
   "cell_type": "code",
   "execution_count": 30,
   "metadata": {},
   "outputs": [],
   "source": [
    "#Exporto el dataframe completo a un csv nuevo\n",
    "\n",
    "data_merge.to_csv('Movies_completo.csv', index=False)"
   ]
  }
 ],
 "metadata": {
  "kernelspec": {
   "display_name": "Python 3",
   "language": "python",
   "name": "python3"
  },
  "language_info": {
   "codemirror_mode": {
    "name": "ipython",
    "version": 3
   },
   "file_extension": ".py",
   "mimetype": "text/x-python",
   "name": "python",
   "nbconvert_exporter": "python",
   "pygments_lexer": "ipython3",
   "version": "3.10.9"
  },
  "orig_nbformat": 4
 },
 "nbformat": 4,
 "nbformat_minor": 2
}
