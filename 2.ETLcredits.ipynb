{
 "cells": [
  {
   "attachments": {},
   "cell_type": "markdown",
   "metadata": {},
   "source": [
    "EXTRACCIÓN, TRANSFORMACIÓN, CARGA DE DATOS (E.T.L)\n",
    "\n",
    "\n",
    "María Agostina Balverde Moll - DATA FT 11"
   ]
  },
  {
   "cell_type": "code",
   "execution_count": 1,
   "metadata": {},
   "outputs": [],
   "source": [
    "#Importar librerías necesarias\n",
    "\n",
    "import numpy as np\n",
    "import pandas as pd\n",
    "import matplotlib.pyplot as plt\n",
    "import seaborn as sns\n",
    "import csv\n",
    "import json\n",
    "import ast"
   ]
  },
  {
   "cell_type": "code",
   "execution_count": 3,
   "metadata": {},
   "outputs": [],
   "source": [
    "#Importo el csv 'credits'\n",
    "\n",
    "data_credits = pd.read_csv('Datasets/credits.csv')"
   ]
  },
  {
   "cell_type": "code",
   "execution_count": 5,
   "metadata": {},
   "outputs": [],
   "source": [
    "data_credits['cast'] = data_credits['cast'].apply(ast.literal_eval)"
   ]
  },
  {
   "cell_type": "code",
   "execution_count": 6,
   "metadata": {},
   "outputs": [],
   "source": [
    "#El campo 'cast' anidado, lo desanido y coloco en nuevas columnas los datos que contiene\n",
    "\n",
    "data_credits['CastId'] = data_credits['cast'].apply(lambda x: ', '.join([str(d['cast_id']) for d in x]))"
   ]
  },
  {
   "cell_type": "code",
   "execution_count": 7,
   "metadata": {},
   "outputs": [],
   "source": [
    "data_credits['Character'] = data_credits['cast'].apply(lambda x: ', '.join([str(d['character']) for d in x]))"
   ]
  },
  {
   "cell_type": "code",
   "execution_count": 8,
   "metadata": {},
   "outputs": [],
   "source": [
    "data_credits['CreditId'] = data_credits['cast'].apply(lambda x: ', '.join([str(d['credit_id']) for d in x]))"
   ]
  },
  {
   "cell_type": "code",
   "execution_count": 9,
   "metadata": {},
   "outputs": [],
   "source": [
    "data_credits['Gender'] = data_credits['cast'].apply(lambda x: ', '.join([str(d['gender']) for d in x]))"
   ]
  },
  {
   "cell_type": "code",
   "execution_count": 10,
   "metadata": {},
   "outputs": [],
   "source": [
    "data_credits['Id'] = data_credits['cast'].apply(lambda x: ', '.join([str(d['id']) for d in x]))"
   ]
  },
  {
   "cell_type": "code",
   "execution_count": 11,
   "metadata": {},
   "outputs": [],
   "source": [
    "data_credits['Name'] = data_credits['cast'].apply(lambda x: ', '.join([str(d['name']) for d in x]))"
   ]
  },
  {
   "cell_type": "code",
   "execution_count": 12,
   "metadata": {},
   "outputs": [],
   "source": [
    "data_credits['Order'] = data_credits['cast'].apply(lambda x: ', '.join([str(d['order']) for d in x]))"
   ]
  },
  {
   "cell_type": "code",
   "execution_count": 13,
   "metadata": {},
   "outputs": [],
   "source": [
    "data_credits['ProfilePath'] = data_credits['cast'].apply(lambda x: ', '.join([str(d['profile_path']) for d in x]))"
   ]
  },
  {
   "cell_type": "code",
   "execution_count": 14,
   "metadata": {},
   "outputs": [],
   "source": [
    "#Elimino la columna 'cast', 'CastId', 'CreditId', 'Gender', 'Id', 'Order', 'ProfilePath'\n",
    "\n",
    "data_credits = data_credits.drop('cast', axis=1)\n",
    "data_credits = data_credits.drop('CastId', axis=1)\n",
    "data_credits = data_credits.drop('CreditId', axis=1)\n",
    "data_credits = data_credits.drop('Gender', axis=1)\n",
    "data_credits = data_credits.drop('Id', axis=1)\n",
    "data_credits = data_credits.drop('Order', axis=1)\n",
    "data_credits = data_credits.drop('ProfilePath', axis=1)"
   ]
  },
  {
   "cell_type": "code",
   "execution_count": 15,
   "metadata": {},
   "outputs": [],
   "source": [
    "#Cargo los datos en el csv 'credits'\n",
    "\n",
    "data_credits.to_csv('Datasets/credits.csv', index=False)"
   ]
  },
  {
   "cell_type": "code",
   "execution_count": 4,
   "metadata": {},
   "outputs": [
    {
     "data": {
      "text/html": [
       "<div>\n",
       "<style scoped>\n",
       "    .dataframe tbody tr th:only-of-type {\n",
       "        vertical-align: middle;\n",
       "    }\n",
       "\n",
       "    .dataframe tbody tr th {\n",
       "        vertical-align: top;\n",
       "    }\n",
       "\n",
       "    .dataframe thead th {\n",
       "        text-align: right;\n",
       "    }\n",
       "</style>\n",
       "<table border=\"1\" class=\"dataframe\">\n",
       "  <thead>\n",
       "    <tr style=\"text-align: right;\">\n",
       "      <th></th>\n",
       "      <th>Director</th>\n",
       "      <th>Id</th>\n",
       "      <th>Character</th>\n",
       "      <th>Name</th>\n",
       "    </tr>\n",
       "  </thead>\n",
       "  <tbody>\n",
       "    <tr>\n",
       "      <th>0</th>\n",
       "      <td>['John Lasseter']</td>\n",
       "      <td>862</td>\n",
       "      <td>Woody (voice), Buzz Lightyear (voice), Mr. Pot...</td>\n",
       "      <td>Tom Hanks, Tim Allen, Don Rickles, Jim Varney,...</td>\n",
       "    </tr>\n",
       "    <tr>\n",
       "      <th>1</th>\n",
       "      <td>['Joe Johnston']</td>\n",
       "      <td>8844</td>\n",
       "      <td>Alan Parrish, Samuel Alan Parrish / Van Pelt, ...</td>\n",
       "      <td>Robin Williams, Jonathan Hyde, Kirsten Dunst, ...</td>\n",
       "    </tr>\n",
       "    <tr>\n",
       "      <th>2</th>\n",
       "      <td>['Howard Deutch']</td>\n",
       "      <td>15602</td>\n",
       "      <td>Max Goldman, John Gustafson, Ariel Gustafson, ...</td>\n",
       "      <td>Walter Matthau, Jack Lemmon, Ann-Margret, Soph...</td>\n",
       "    </tr>\n",
       "    <tr>\n",
       "      <th>3</th>\n",
       "      <td>['Forest Whitaker']</td>\n",
       "      <td>31357</td>\n",
       "      <td>Savannah 'Vannah' Jackson, Bernadine 'Bernie' ...</td>\n",
       "      <td>Whitney Houston, Angela Bassett, Loretta Devin...</td>\n",
       "    </tr>\n",
       "    <tr>\n",
       "      <th>4</th>\n",
       "      <td>['Charles Shyer']</td>\n",
       "      <td>11862</td>\n",
       "      <td>George Banks, Nina Banks, Franck Eggelhoffer, ...</td>\n",
       "      <td>Steve Martin, Diane Keaton, Martin Short, Kimb...</td>\n",
       "    </tr>\n",
       "    <tr>\n",
       "      <th>...</th>\n",
       "      <td>...</td>\n",
       "      <td>...</td>\n",
       "      <td>...</td>\n",
       "      <td>...</td>\n",
       "    </tr>\n",
       "    <tr>\n",
       "      <th>45471</th>\n",
       "      <td>['Hamid Nematollah']</td>\n",
       "      <td>439050</td>\n",
       "      <td>, ,</td>\n",
       "      <td>Leila Hatami, Kourosh Tahami, Elham Korda</td>\n",
       "    </tr>\n",
       "    <tr>\n",
       "      <th>45472</th>\n",
       "      <td>['Lav Diaz']</td>\n",
       "      <td>111109</td>\n",
       "      <td>Sister Angela, Homer, Crazy Woman/Virgin, Aman...</td>\n",
       "      <td>Angel Aquino, Perry Dizon, Hazel Orencio, Joel...</td>\n",
       "    </tr>\n",
       "    <tr>\n",
       "      <th>45473</th>\n",
       "      <td>['Mark L. Lester']</td>\n",
       "      <td>67758</td>\n",
       "      <td>Emily Shaw, Det. Mark Winston, Jayne Ferré, Al...</td>\n",
       "      <td>Erika Eleniak, Adam Baldwin, Julie du Page, Ja...</td>\n",
       "    </tr>\n",
       "    <tr>\n",
       "      <th>45474</th>\n",
       "      <td>['Yakov Protazanov']</td>\n",
       "      <td>227506</td>\n",
       "      <td>, , , ,</td>\n",
       "      <td>Iwan Mosschuchin, Nathalie Lissenko, Pavel Pav...</td>\n",
       "    </tr>\n",
       "    <tr>\n",
       "      <th>45475</th>\n",
       "      <td>['Daisy Asquith']</td>\n",
       "      <td>461257</td>\n",
       "      <td>NaN</td>\n",
       "      <td>NaN</td>\n",
       "    </tr>\n",
       "  </tbody>\n",
       "</table>\n",
       "<p>45476 rows × 4 columns</p>\n",
       "</div>"
      ],
      "text/plain": [
       "                   Director      Id  \\\n",
       "0         ['John Lasseter']     862   \n",
       "1          ['Joe Johnston']    8844   \n",
       "2         ['Howard Deutch']   15602   \n",
       "3       ['Forest Whitaker']   31357   \n",
       "4         ['Charles Shyer']   11862   \n",
       "...                     ...     ...   \n",
       "45471  ['Hamid Nematollah']  439050   \n",
       "45472          ['Lav Diaz']  111109   \n",
       "45473    ['Mark L. Lester']   67758   \n",
       "45474  ['Yakov Protazanov']  227506   \n",
       "45475     ['Daisy Asquith']  461257   \n",
       "\n",
       "                                               Character  \\\n",
       "0      Woody (voice), Buzz Lightyear (voice), Mr. Pot...   \n",
       "1      Alan Parrish, Samuel Alan Parrish / Van Pelt, ...   \n",
       "2      Max Goldman, John Gustafson, Ariel Gustafson, ...   \n",
       "3      Savannah 'Vannah' Jackson, Bernadine 'Bernie' ...   \n",
       "4      George Banks, Nina Banks, Franck Eggelhoffer, ...   \n",
       "...                                                  ...   \n",
       "45471                                               , ,    \n",
       "45472  Sister Angela, Homer, Crazy Woman/Virgin, Aman...   \n",
       "45473  Emily Shaw, Det. Mark Winston, Jayne Ferré, Al...   \n",
       "45474                                           , , , ,    \n",
       "45475                                                NaN   \n",
       "\n",
       "                                                    Name  \n",
       "0      Tom Hanks, Tim Allen, Don Rickles, Jim Varney,...  \n",
       "1      Robin Williams, Jonathan Hyde, Kirsten Dunst, ...  \n",
       "2      Walter Matthau, Jack Lemmon, Ann-Margret, Soph...  \n",
       "3      Whitney Houston, Angela Bassett, Loretta Devin...  \n",
       "4      Steve Martin, Diane Keaton, Martin Short, Kimb...  \n",
       "...                                                  ...  \n",
       "45471          Leila Hatami, Kourosh Tahami, Elham Korda  \n",
       "45472  Angel Aquino, Perry Dizon, Hazel Orencio, Joel...  \n",
       "45473  Erika Eleniak, Adam Baldwin, Julie du Page, Ja...  \n",
       "45474  Iwan Mosschuchin, Nathalie Lissenko, Pavel Pav...  \n",
       "45475                                                NaN  \n",
       "\n",
       "[45476 rows x 4 columns]"
      ]
     },
     "execution_count": 4,
     "metadata": {},
     "output_type": "execute_result"
    }
   ],
   "source": [
    "data_credits"
   ]
  },
  {
   "cell_type": "code",
   "execution_count": 29,
   "metadata": {},
   "outputs": [],
   "source": [
    "#Importar librerías necesarias\n",
    "\n",
    "import numpy as np\n",
    "import pandas as pd\n",
    "import matplotlib.pyplot as plt\n",
    "import seaborn as sns\n",
    "import csv\n",
    "import json\n",
    "import ast"
   ]
  },
  {
   "cell_type": "code",
   "execution_count": 5,
   "metadata": {},
   "outputs": [],
   "source": [
    "#Creo un nuevo dataframe para trabajar con la columna 'crew'\n",
    "\n",
    "data_credits_1 = pd.read_csv('Datasets/credits.csv')"
   ]
  },
  {
   "cell_type": "code",
   "execution_count": null,
   "metadata": {},
   "outputs": [],
   "source": [
    "data_credits_1 ['crew'] [0]"
   ]
  },
  {
   "cell_type": "code",
   "execution_count": 32,
   "metadata": {},
   "outputs": [],
   "source": [
    "#Creo una función para obtener sólo el nombre de los directores de las películas de la columna 'crew'\n",
    "\n",
    "def obtener_director (obj):\n",
    "  lista_director = []\n",
    "  for i in ast.literal_eval(obj):\n",
    "    if i['job'] == 'Director':\n",
    "      lista_director.append(i['name'])\n",
    "      break\n",
    "  return lista_director"
   ]
  },
  {
   "cell_type": "code",
   "execution_count": 33,
   "metadata": {},
   "outputs": [],
   "source": [
    "data_credits_1['crew'] = data_credits_1['crew'].apply(obtener_director)"
   ]
  },
  {
   "cell_type": "code",
   "execution_count": 35,
   "metadata": {},
   "outputs": [],
   "source": [
    "#Cambio el nombre de la columna 'crew' por 'Director'\n",
    "\n",
    "#Creo un diccionario con los nuevos nombres de las columnas\n",
    "nuevos_nombres = {\n",
    "    'crew': 'Director',\n",
    "    'id': 'Id',\n",
    "}\n",
    "\n",
    "#Cambio los nombres de las columnas\n",
    "data_credits_1 = data_credits_1.rename(columns=nuevos_nombres)"
   ]
  },
  {
   "cell_type": "code",
   "execution_count": 8,
   "metadata": {},
   "outputs": [
    {
     "data": {
      "text/html": [
       "<div>\n",
       "<style scoped>\n",
       "    .dataframe tbody tr th:only-of-type {\n",
       "        vertical-align: middle;\n",
       "    }\n",
       "\n",
       "    .dataframe tbody tr th {\n",
       "        vertical-align: top;\n",
       "    }\n",
       "\n",
       "    .dataframe thead th {\n",
       "        text-align: right;\n",
       "    }\n",
       "</style>\n",
       "<table border=\"1\" class=\"dataframe\">\n",
       "  <thead>\n",
       "    <tr style=\"text-align: right;\">\n",
       "      <th></th>\n",
       "      <th>Director</th>\n",
       "      <th>Id</th>\n",
       "      <th>Character</th>\n",
       "      <th>Name</th>\n",
       "    </tr>\n",
       "  </thead>\n",
       "  <tbody>\n",
       "    <tr>\n",
       "      <th>0</th>\n",
       "      <td>['John Lasseter']</td>\n",
       "      <td>862</td>\n",
       "      <td>Woody (voice), Buzz Lightyear (voice), Mr. Pot...</td>\n",
       "      <td>Tom Hanks, Tim Allen, Don Rickles, Jim Varney,...</td>\n",
       "    </tr>\n",
       "    <tr>\n",
       "      <th>1</th>\n",
       "      <td>['Joe Johnston']</td>\n",
       "      <td>8844</td>\n",
       "      <td>Alan Parrish, Samuel Alan Parrish / Van Pelt, ...</td>\n",
       "      <td>Robin Williams, Jonathan Hyde, Kirsten Dunst, ...</td>\n",
       "    </tr>\n",
       "    <tr>\n",
       "      <th>2</th>\n",
       "      <td>['Howard Deutch']</td>\n",
       "      <td>15602</td>\n",
       "      <td>Max Goldman, John Gustafson, Ariel Gustafson, ...</td>\n",
       "      <td>Walter Matthau, Jack Lemmon, Ann-Margret, Soph...</td>\n",
       "    </tr>\n",
       "    <tr>\n",
       "      <th>3</th>\n",
       "      <td>['Forest Whitaker']</td>\n",
       "      <td>31357</td>\n",
       "      <td>Savannah 'Vannah' Jackson, Bernadine 'Bernie' ...</td>\n",
       "      <td>Whitney Houston, Angela Bassett, Loretta Devin...</td>\n",
       "    </tr>\n",
       "    <tr>\n",
       "      <th>4</th>\n",
       "      <td>['Charles Shyer']</td>\n",
       "      <td>11862</td>\n",
       "      <td>George Banks, Nina Banks, Franck Eggelhoffer, ...</td>\n",
       "      <td>Steve Martin, Diane Keaton, Martin Short, Kimb...</td>\n",
       "    </tr>\n",
       "  </tbody>\n",
       "</table>\n",
       "</div>"
      ],
      "text/plain": [
       "              Director     Id  \\\n",
       "0    ['John Lasseter']    862   \n",
       "1     ['Joe Johnston']   8844   \n",
       "2    ['Howard Deutch']  15602   \n",
       "3  ['Forest Whitaker']  31357   \n",
       "4    ['Charles Shyer']  11862   \n",
       "\n",
       "                                           Character  \\\n",
       "0  Woody (voice), Buzz Lightyear (voice), Mr. Pot...   \n",
       "1  Alan Parrish, Samuel Alan Parrish / Van Pelt, ...   \n",
       "2  Max Goldman, John Gustafson, Ariel Gustafson, ...   \n",
       "3  Savannah 'Vannah' Jackson, Bernadine 'Bernie' ...   \n",
       "4  George Banks, Nina Banks, Franck Eggelhoffer, ...   \n",
       "\n",
       "                                                Name  \n",
       "0  Tom Hanks, Tim Allen, Don Rickles, Jim Varney,...  \n",
       "1  Robin Williams, Jonathan Hyde, Kirsten Dunst, ...  \n",
       "2  Walter Matthau, Jack Lemmon, Ann-Margret, Soph...  \n",
       "3  Whitney Houston, Angela Bassett, Loretta Devin...  \n",
       "4  Steve Martin, Diane Keaton, Martin Short, Kimb...  "
      ]
     },
     "execution_count": 8,
     "metadata": {},
     "output_type": "execute_result"
    }
   ],
   "source": [
    "data_credits_1.head()"
   ]
  },
  {
   "cell_type": "code",
   "execution_count": 9,
   "metadata": {},
   "outputs": [],
   "source": [
    "#Cargo los datos en el csv 'credits'\n",
    "\n",
    "data_credits_1.to_csv('Datasets/credits.csv', index=False)"
   ]
  }
 ],
 "metadata": {
  "kernelspec": {
   "display_name": "Python 3",
   "language": "python",
   "name": "python3"
  },
  "language_info": {
   "codemirror_mode": {
    "name": "ipython",
    "version": 3
   },
   "file_extension": ".py",
   "mimetype": "text/x-python",
   "name": "python",
   "nbconvert_exporter": "python",
   "pygments_lexer": "ipython3",
   "version": "3.10.9"
  },
  "orig_nbformat": 4
 },
 "nbformat": 4,
 "nbformat_minor": 2
}
